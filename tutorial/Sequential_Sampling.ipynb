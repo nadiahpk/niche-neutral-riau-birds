{
 "cells": [
  {
   "cell_type": "markdown",
   "id": "gentle-collectible",
   "metadata": {},
   "source": [
    "# Sequential sampling"
   ]
  },
  {
   "cell_type": "markdown",
   "id": "accessory-kingston",
   "metadata": {},
   "source": [
    "The purpose of this tutorial is to provide an example of how our new sequential sampling algorithm can be used to generate random samples from the niche-neutral model."
   ]
  },
  {
   "cell_type": "markdown",
   "id": "double-aruba",
   "metadata": {},
   "source": [
    "## 1. Detailed example"
   ]
  },
  {
   "cell_type": "code",
   "execution_count": 1,
   "id": "continuous-check",
   "metadata": {},
   "outputs": [],
   "source": [
    "import matplotlib.pyplot as plt\n",
    "import numpy as np"
   ]
  },
  {
   "cell_type": "markdown",
   "id": "royal-synthetic",
   "metadata": {},
   "source": [
    "### 1.1. Define parameter values"
   ]
  },
  {
   "cell_type": "markdown",
   "id": "english-coating",
   "metadata": {},
   "source": [
    "We begin by defining some parameter values for our example. Let the fundamental biodiversity per niche $\\theta_k = 1.3$, migration parameter $m = 4 \\times 10^{-3}$, and define four islands with areas given below."
   ]
  },
  {
   "cell_type": "code",
   "execution_count": 2,
   "id": "treated-louisville",
   "metadata": {},
   "outputs": [],
   "source": [
    "theta_k = 1.3\n",
    "m = 4e-3\n",
    "areahV = [0.1, 1, 10, 50] # areas in sq-km\n",
    "H = len(areahV)"
   ]
  },
  {
   "cell_type": "markdown",
   "id": "mounted-amino",
   "metadata": {},
   "source": [
    "As in the main text, density $\\rho = 1700$ birds per sq-km, and therefore the number of individuals on each island is"
   ]
  },
  {
   "cell_type": "code",
   "execution_count": 3,
   "id": "appreciated-partner",
   "metadata": {},
   "outputs": [
    {
     "data": {
      "text/plain": [
       "[170, 1700, 17000, 85000]"
      ]
     },
     "execution_count": 3,
     "metadata": {},
     "output_type": "execute_result"
    }
   ],
   "source": [
    "rho = 1700\n",
    "JhV = [ int(rho*area) for area in areahV ]\n",
    "JhV"
   ]
  },
  {
   "cell_type": "markdown",
   "id": "empirical-adelaide",
   "metadata": {},
   "source": [
    "Assume that the migration rate is the same on every island"
   ]
  },
  {
   "cell_type": "code",
   "execution_count": 4,
   "id": "spatial-snapshot",
   "metadata": {},
   "outputs": [],
   "source": [
    "mhV = [m]*H"
   ]
  },
  {
   "cell_type": "markdown",
   "id": "handy-hearts",
   "metadata": {},
   "source": [
    "To make things interesting, let us assume that the number niches varies between islands so that the large islands have more niches."
   ]
  },
  {
   "cell_type": "code",
   "execution_count": 5,
   "id": "orange-stick",
   "metadata": {},
   "outputs": [],
   "source": [
    "KhV = [8, 8, 9, 10]"
   ]
  },
  {
   "cell_type": "markdown",
   "id": "alpha-jenny",
   "metadata": {},
   "source": [
    "Assume that every niche has the same fundamental biodiversity number"
   ]
  },
  {
   "cell_type": "code",
   "execution_count": 10,
   "id": "standard-terry",
   "metadata": {},
   "outputs": [],
   "source": [
    "thetakV = [theta_k]*max(KhV)"
   ]
  },
  {
   "cell_type": "markdown",
   "id": "included-subscription",
   "metadata": {},
   "source": [
    "Now create $J$, a matrix of the number of individuals in niche $k$ on island $h$"
   ]
  },
  {
   "cell_type": "code",
   "execution_count": 9,
   "id": "abroad-consistency",
   "metadata": {},
   "outputs": [
    {
     "data": {
      "text/plain": [
       "[[21, 212, 1888, 8500],\n",
       " [21, 212, 1888, 8500],\n",
       " [21, 212, 1888, 8500],\n",
       " [21, 212, 1888, 8500],\n",
       " [21, 212, 1888, 8500],\n",
       " [21, 212, 1888, 8500],\n",
       " [21, 212, 1888, 8500],\n",
       " [21, 212, 1888, 8500],\n",
       " [0, 0, 1888, 8500],\n",
       " [0, 0, 0, 8500]]"
      ]
     },
     "execution_count": 9,
     "metadata": {},
     "output_type": "execute_result"
    }
   ],
   "source": [
    "J = [ [ 0 for h in range(H)] for k in range(max(KhV)) ]\n",
    "\n",
    "for k in range(max(KhV)):\n",
    "    \n",
    "    for h in range(H):\n",
    "        \n",
    "        J[k][h] = JhV[h] // KhV[h] if k < KhV[h] else 0\n",
    "        \n",
    "J"
   ]
  },
  {
   "cell_type": "markdown",
   "id": "special-myanmar",
   "metadata": {},
   "source": [
    "Each row in $J$ corresponds to one of the 10 niches, and each entry within the row corresponds to one of the four islands."
   ]
  },
  {
   "cell_type": "markdown",
   "id": "joined-validity",
   "metadata": {},
   "source": [
    "### 1.2. The algorithm"
   ]
  },
  {
   "cell_type": "markdown",
   "id": "parallel-campaign",
   "metadata": {},
   "source": [
    "The code below follows the algorithm given in the online appendix."
   ]
  },
  {
   "cell_type": "code",
   "execution_count": 13,
   "id": "structural-disposal",
   "metadata": {},
   "outputs": [],
   "source": [
    "ancestors = list() # ancestors urns\n",
    "community = list() # community urns\n",
    "\n",
    "no_ancestors = [ 0 for k in range(max(KhV)) ] # keep track of the number of ancestors drawn\n",
    "\n",
    "for k in range(max(KhV)): # for each niche\n",
    "    \n",
    "    ancestors.append([]) # each niche has its own ancestors urn\n",
    "    community.append([]) # community urns are also split between niches\n",
    "    \n",
    "    for h in range(H): # for each island\n",
    "        \n",
    "        community[k].append([ 0 for a_k in range(len(ancestors[k])) ]) # and each island has its own community urn\n",
    "        \n",
    "        I = mhV[h] * (J[k][h]-1) / (1-mhV[h])\n",
    "        \n",
    "        for j in range(J[k][h]): # for each individual\n",
    "            \n",
    "            alpha1 = np.random.rand()\n",
    "            \n",
    "            if alpha1 <= I / (I+j):\n",
    "                \n",
    "                # drawn an immigrant\n",
    "                \n",
    "                alpha2 = np.random.rand()\n",
    "                \n",
    "                if alpha2 <= thetakV[k] / (thetakV[k] + no_ancestors[k]):\n",
    "                    \n",
    "                    # immigrant individual is a new species\n",
    "                    ancestors[k].append(1)\n",
    "                    community[k][h].append(1)\n",
    "                    \n",
    "                else:\n",
    "                    \n",
    "                    # species we've seen before\n",
    "                    prob_i = [ ai / no_ancestors[k] for ai in ancestors[k] ] \n",
    "                    i_star = np.random.choice( range(len(prob_i)), 1, p = prob_i )[0]\n",
    "                    ancestors[k][i_star] += 1\n",
    "                    community[k][h][i_star] += 1\n",
    "                    \n",
    "                no_ancestors[k] += 1 # increment ancestors counter\n",
    "                \n",
    "            else:\n",
    "                \n",
    "                # drawn a local individual\n",
    "                prob_i = [ ni / j for ni in community[k][h] ]\n",
    "                i_star = np.random.choice( range(len(prob_i)), 1, p = prob_i )[0]\n",
    "                community[k][h][i_star] += 1"
   ]
  },
  {
   "cell_type": "markdown",
   "id": "fixed-cooper",
   "metadata": {},
   "source": [
    "The final state of the ancestors urns (one urn for each niche):"
   ]
  },
  {
   "cell_type": "code",
   "execution_count": 19,
   "id": "forbidden-evans",
   "metadata": {},
   "outputs": [
    {
     "data": {
      "text/plain": [
       "[[46, 74, 50, 26, 4, 7, 17, 1, 1],\n",
       " [76, 81, 38, 4, 6, 21, 3, 4, 1],\n",
       " [68, 53, 35, 61, 8, 2, 1],\n",
       " [93, 19, 73, 54, 5, 1, 1],\n",
       " [80, 119, 1, 8, 8, 4, 2, 15, 1],\n",
       " [173, 41, 2, 12, 1, 1, 1, 2, 1],\n",
       " [19, 105, 67, 38, 2, 2, 1, 2, 1],\n",
       " [46, 2, 73, 96, 10, 14, 1, 5, 1, 2, 4, 2],\n",
       " [85, 150, 9, 3, 1, 2, 1],\n",
       " [125, 21, 8, 7, 5, 1, 3, 1]]"
      ]
     },
     "execution_count": 19,
     "metadata": {},
     "output_type": "execute_result"
    }
   ],
   "source": [
    "ancestors"
   ]
  },
  {
   "cell_type": "markdown",
   "id": "duplicate-gauge",
   "metadata": {},
   "source": [
    "The final state of the community urns:"
   ]
  },
  {
   "cell_type": "code",
   "execution_count": 14,
   "id": "institutional-coral",
   "metadata": {
    "scrolled": true
   },
   "outputs": [
    {
     "data": {
      "text/plain": [
       "[[[21],\n",
       "  [63, 142, 2, 4, 1],\n",
       "  [353, 967, 404, 0, 0, 81, 83],\n",
       "  [2041, 2471, 1892, 1070, 44, 316, 654, 11, 1]],\n",
       " [[21],\n",
       "  [1, 205, 6],\n",
       "  [698, 857, 151, 113, 69],\n",
       "  [2411, 2845, 825, 422, 154, 866, 952, 16, 9]],\n",
       " [[19, 2],\n",
       "  [0, 28, 183, 1],\n",
       "  [677, 638, 43, 529, 1],\n",
       "  [2400, 2135, 2273, 1473, 199, 19, 1]],\n",
       " [[21], [9, 203], [1114, 68, 669, 37], [3013, 717, 2737, 1916, 115, 1, 1]],\n",
       " [[21],\n",
       "  [27, 185],\n",
       "  [498, 1046, 20, 85, 187, 49, 3],\n",
       "  [3355, 3683, 0, 157, 212, 55, 8, 1000, 30]],\n",
       " [[21],\n",
       "  [210, 2],\n",
       "  [1648, 142, 19, 76, 3],\n",
       "  [5767, 1824, 302, 464, 0, 90, 31, 21, 1]],\n",
       " [[21],\n",
       "  [0, 208, 4],\n",
       "  [6, 365, 859, 656, 1, 1],\n",
       "  [771, 3530, 2642, 937, 200, 18, 154, 247, 1]],\n",
       " [[16, 5],\n",
       "  [0, 0, 195, 17],\n",
       "  [523, 0, 335, 959, 42, 29],\n",
       "  [682, 3, 3488, 2870, 316, 468, 163, 150, 256, 19, 78, 7]],\n",
       " [[], [], [1319, 557, 9, 3], [1879, 5620, 188, 795, 1, 14, 3]],\n",
       " [[], [], [], [5688, 1615, 316, 307, 171, 235, 156, 12]]]"
      ]
     },
     "execution_count": 14,
     "metadata": {},
     "output_type": "execute_result"
    }
   ],
   "source": [
    "community"
   ]
  },
  {
   "cell_type": "markdown",
   "id": "ordinary-forestry",
   "metadata": {},
   "source": [
    "Each row of `community` corressponds to a niche, and each entry corresponds to an island. For example, these are the community urns for the four islands for the first niche:"
   ]
  },
  {
   "cell_type": "code",
   "execution_count": 20,
   "id": "special-error",
   "metadata": {},
   "outputs": [
    {
     "data": {
      "text/plain": [
       "[[21],\n",
       " [63, 142, 2, 4, 1],\n",
       " [353, 967, 404, 0, 0, 81, 83],\n",
       " [2041, 2471, 1892, 1070, 44, 316, 654, 11, 1]]"
      ]
     },
     "execution_count": 20,
     "metadata": {},
     "output_type": "execute_result"
    }
   ],
   "source": [
    "community[0]"
   ]
  },
  {
   "cell_type": "markdown",
   "id": "naked-botswana",
   "metadata": {},
   "source": [
    "Each entry indicates the number of individuals on that island of that species. For example:"
   ]
  },
  {
   "cell_type": "code",
   "execution_count": 22,
   "id": "modern-favorite",
   "metadata": {},
   "outputs": [
    {
     "data": {
      "text/plain": [
       "[353, 967, 404, 0, 0, 81, 83]"
      ]
     },
     "execution_count": 22,
     "metadata": {},
     "output_type": "execute_result"
    }
   ],
   "source": [
    "community[0][2]"
   ]
  },
  {
   "cell_type": "markdown",
   "id": "developmental-beauty",
   "metadata": {},
   "source": [
    "... says that, in the first niche on the third island, there are 353 individuals of species 1, 967 of species 2, 404 of species 3, 0 of species 4 and 5, etc.\n",
    "\n",
    "Get the species richness on each island:"
   ]
  },
  {
   "cell_type": "code",
   "execution_count": 23,
   "id": "modified-avatar",
   "metadata": {},
   "outputs": [
    {
     "data": {
      "text/plain": [
       "[10, 21, 46, 84]"
      ]
     },
     "execution_count": 23,
     "metadata": {},
     "output_type": "execute_result"
    }
   ],
   "source": [
    "richnessV = [ sum(sum( 1 if i > 0 else 0 for i in ls ) for ls in v ) for v in zip(*community) ]\n",
    "richnessV"
   ]
  },
  {
   "cell_type": "code",
   "execution_count": 18,
   "id": "entertaining-stations",
   "metadata": {},
   "outputs": [
    {
     "data": {
      "image/png": "[encoded data removed]",
      "text/plain": [
       "<Figure size 432x288 with 1 Axes>"
      ]
     },
     "metadata": {
      "needs_background": "light"
     },
     "output_type": "display_data"
    }
   ],
   "source": [
    "plt.scatter(areahV, richnessV)\n",
    "plt.xlabel('area (sq-km)')\n",
    "plt.ylabel('species richness')\n",
    "plt.xscale('log')\n",
    "plt.show()"
   ]
  },
  {
   "cell_type": "markdown",
   "id": "handmade-charm",
   "metadata": {},
   "source": [
    "## 2. Use function from code repository"
   ]
  },
  {
   "cell_type": "markdown",
   "id": "informational-psychiatry",
   "metadata": {},
   "source": [
    "The sequential sampling algorithm above can also be found in <code>/functions/my_functions.py</code>: <code>draw sample_species_generator_general()</code>"
   ]
  },
  {
   "cell_type": "code",
   "execution_count": 24,
   "id": "specified-tactics",
   "metadata": {},
   "outputs": [],
   "source": [
    "import sys\n",
    "sys.path.insert(0,'../functions')\n",
    "\n",
    "from my_functions import draw_sample_species_generator_general"
   ]
  },
  {
   "cell_type": "code",
   "execution_count": 26,
   "id": "legendary-optimum",
   "metadata": {},
   "outputs": [],
   "source": [
    "# draw_sample_species_generator_general? # to see documentation"
   ]
  },
  {
   "cell_type": "code",
   "execution_count": 27,
   "id": "complimentary-wound",
   "metadata": {},
   "outputs": [],
   "source": [
    "ancestors2, community2 = draw_sample_species_generator_general(thetakV, mhV, J)"
   ]
  },
  {
   "cell_type": "code",
   "execution_count": 29,
   "id": "textile-insert",
   "metadata": {},
   "outputs": [
    {
     "data": {
      "text/plain": [
       "[8, 24, 48, 75]"
      ]
     },
     "execution_count": 29,
     "metadata": {},
     "output_type": "execute_result"
    }
   ],
   "source": [
    "richness2V = [ sum(sum( 1 if i > 0 else 0 for i in ls ) for ls in v ) for v in zip(*community2) ]\n",
    "richness2V"
   ]
  },
  {
   "cell_type": "code",
   "execution_count": 30,
   "id": "starting-detail",
   "metadata": {},
   "outputs": [
    {
     "data": {
      "image/png": "[encoded data removed]",
      "text/plain": [
       "<Figure size 432x288 with 1 Axes>"
      ]
     },
     "metadata": {
      "needs_background": "light"
     },
     "output_type": "display_data"
    }
   ],
   "source": [
    "plt.scatter(areahV, richnessV)\n",
    "plt.xlabel('area (sq-km)')\n",
    "plt.ylabel('species richness')\n",
    "plt.xscale('log')\n",
    "plt.show()"
   ]
  },
  {
   "cell_type": "code",
   "execution_count": null,
   "id": "built-geology",
   "metadata": {},
   "outputs": [],
   "source": []
  }
 ],
 "metadata": {
  "kernelspec": {
   "display_name": "Python 3",
   "language": "python",
   "name": "python3"
  },
  "language_info": {
   "codemirror_mode": {
    "name": "ipython",
    "version": 3
   },
   "file_extension": ".py",
   "mimetype": "text/x-python",
   "name": "python",
   "nbconvert_exporter": "python",
   "pygments_lexer": "ipython3",
   "version": "3.9.2"
  }
 },
 "nbformat": 4,
 "nbformat_minor": 5
}
